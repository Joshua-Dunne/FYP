{
 "cells": [
  {
   "cell_type": "markdown",
   "id": "ea951235",
   "metadata": {},
   "source": [
    "### Import Dependencies"
   ]
  },
  {
   "cell_type": "code",
   "execution_count": null,
   "id": "a9683f07",
   "metadata": {},
   "outputs": [],
   "source": [
    "# Pygame intended for later use\n",
    "!pip install pygame"
   ]
  },
  {
   "cell_type": "code",
   "execution_count": null,
   "id": "43c0bfca",
   "metadata": {},
   "outputs": [],
   "source": [
    "# Gym Imports\n",
    "import gym\n",
    "from gym import Env\n",
    "from gym.spaces import Discrete, Box, Dict, Tuple, MultiBinary, MultiDiscrete # different types of spaces\n",
    "\n",
    "# Helpers\n",
    "import numpy as np\n",
    "import random\n",
    "import os\n",
    "\n",
    "# Stable baselines\n",
    "from stable_baselines3 import PPO\n",
    "from stable_baselines3.common.vec_env import DummyVecEnv\n",
    "from stable_baselines3.common.evaluation import evaluate_policy\n",
    "\n",
    "# Time module to make program halt for presentation purposes\n",
    "import time"
   ]
  },
  {
   "cell_type": "code",
   "execution_count": null,
   "id": "f9703115",
   "metadata": {},
   "outputs": [],
   "source": [
    "# Pygame\n",
    "import pygame as pg\n",
    "\n",
    "\n",
    "screen_width = 800\n",
    "screen_height = 600\n",
    "\n",
    "pg.init()\n",
    "screen = pg.display.set_mode((screen_width,screen_height))\n",
    "pg.display.set_caption(\"Shower\")\n",
    "\n",
    "# see if we can load more than standard BMP\n",
    "if not pg.image.get_extended():\n",
    "    raise SystemExit(\"Sorry, extended image module required\")\n",
    "\n",
    "# game constants\n",
    "SCREENRECT = pg.Rect(0, 0, screen_width, screen_height)\n",
    "\n",
    "pg.quit()"
   ]
  },
  {
   "cell_type": "code",
   "execution_count": null,
   "id": "73c087f4",
   "metadata": {},
   "outputs": [],
   "source": [
    "def load_image(file):\n",
    "    \"\"\"loads an image, prepares it for play\"\"\"\n",
    "    file = os.path.join(file)\n",
    "    try:\n",
    "        surface = pg.image.load(file)\n",
    "    except pg.error:\n",
    "        raise SystemExit('Could not load image \"%s\" %s' % (file, pg.get_error()))\n",
    "    return surface.convert()"
   ]
  },
  {
   "cell_type": "code",
   "execution_count": null,
   "id": "cd76b13f",
   "metadata": {},
   "outputs": [],
   "source": [
    "pg.init()\n",
    "screen = pg.display.set_mode((screen_width,screen_height))\n",
    "pg.display.set_caption(\"Shower\")\n",
    "\n",
    "class Knob(pg.sprite.Sprite):\n",
    "    \"\"\"A visual for what way the AI is turning the temperature\"\"\"\n",
    "    images = [load_image(\"assets/sprites/knob_none.png\"), \n",
    "              load_image(\"assets/sprites/knob_r.png\"), \n",
    "              load_image(\"assets/sprites/knob_l.png\")]\n",
    "\n",
    "    def __init__(self, pos):\n",
    "        pg.sprite.Sprite.__init__(self, self.containers)\n",
    "        self.image = self.images[0]\n",
    "        self.rect = self.image.get_rect()\n",
    "        self.rect.x = pos[0] - (self.rect.width / 2.0)\n",
    "        self.rect.y = pos[1] - (self.rect.height / 2.0)\n",
    "\n",
    "    def update(self, action: int):\n",
    "        self.image = self.images[action]\n",
    "\n",
    "pg.display.quit()"
   ]
  },
  {
   "cell_type": "code",
   "execution_count": null,
   "id": "fe588ada",
   "metadata": {},
   "outputs": [],
   "source": [
    "# Initialize Game Groups\n",
    "all = pg.sprite.RenderUpdates()\n",
    "    \n",
    "Knob.containers = all"
   ]
  },
  {
   "cell_type": "markdown",
   "id": "7457946a",
   "metadata": {},
   "source": [
    "### Building an Environment\n",
    "- Build an agent to give us best shower possible\n",
    "- Randomly temperature\n",
    "- 37 and 39 degrees range"
   ]
  },
  {
   "cell_type": "code",
   "execution_count": null,
   "id": "f016e9ee",
   "metadata": {},
   "outputs": [],
   "source": [
    "pg.display.init()\n",
    "class ShowerEnv(Env):\n",
    "    visual = Knob((400,300))\n",
    "    GAME_FONT = pg.freetype.Font(\"assets/fonts/arial.ttf\", 24)\n",
    "    \n",
    "    def __init__(self):\n",
    "        # Actions we can take, down, stay, up\n",
    "        self.action_space = Discrete(3)\n",
    "        # Temperature array\n",
    "        self.observation_space = Box(low=np.array([0]), high=np.array([100]))\n",
    "        # Set start temp\n",
    "        self.state = 38 + random.randint(-3,3)\n",
    "        # Set shower length\n",
    "        self.shower_length = 60\n",
    "\n",
    "    def step(self, action):\n",
    "        # Apply action\n",
    "        # 0 -1 = -1 temperature\n",
    "        # 1 -1 = 0 \n",
    "        # 2 -1 = 1 temperature \n",
    "        self.state += action -1 \n",
    "        # Reduce shower length by 1 second\n",
    "        self.shower_length -= 1\n",
    "        self.visual.update(action)\n",
    "\n",
    "        # Calculate reward\n",
    "        if self.state >=37 and self.state <=39: \n",
    "            reward =1 \n",
    "        else: \n",
    "            reward = -1 \n",
    "\n",
    "        # Check if shower is done\n",
    "        if self.shower_length <= 0: \n",
    "            done = True\n",
    "        else:\n",
    "            done = False\n",
    "\n",
    "        # Apply temperature noise\n",
    "        #self.state += random.randint(-1,1)\n",
    "        # Set placeholder for info\n",
    "        info = {}\n",
    "        \n",
    "        pg.time.wait(60)\n",
    "          \n",
    "        # Return step information\n",
    "        return self.state, reward, done, info\n",
    "    \n",
    "    def drawText(self, screen, string, pos):\n",
    "        self.GAME_FONT.render_to(screen, pos, string, (250, 250, 250))\n",
    "\n",
    "    def render(self):\n",
    "        # create the background, tile the bgd image\n",
    "        bgdtile = load_image(\"assets/sprites/background.png\")\n",
    "        background = pg.Surface(SCREENRECT.size)\n",
    "        for x in range(0, SCREENRECT.width, bgdtile.get_width()):\n",
    "            background.blit(bgdtile, (x, 0))\n",
    "        screen.blit(background, (0, 0))\n",
    "        \n",
    "         # draw the scene\n",
    "        all.clear(screen, background) # clear/erase the last drawn sprites\n",
    "        self.drawText(screen, \"Temperature: \" + str(self.state), (300, 200))\n",
    "        dirty = all.draw(screen)\n",
    "        pg.display.update(dirty)\n",
    "        pg.display.flip()\n",
    "        pass\n",
    "    \n",
    "    def reset(self):\n",
    "        # Reset shower temperature\n",
    "        self.state = np.array([38 + random.randint(-3,3)]).astype(float)\n",
    "        # Reset shower time\n",
    "        self.shower_length = 60\n",
    "        return self.state\n",
    "pg.display.quit()"
   ]
  },
  {
   "cell_type": "markdown",
   "id": "edacefef",
   "metadata": {},
   "source": [
    "### Test Environment"
   ]
  },
  {
   "cell_type": "code",
   "execution_count": null,
   "id": "edbe21e3",
   "metadata": {},
   "outputs": [],
   "source": [
    "env = ShowerEnv()"
   ]
  },
  {
   "cell_type": "code",
   "execution_count": null,
   "id": "e1132842",
   "metadata": {},
   "outputs": [],
   "source": [
    "# Run this cell to test that the Environment works properly\n",
    "# This will randomly pick from a Discrete action step, no model is used here.\n",
    "\n",
    "pg.display.init()\n",
    "screen = pg.display.set_mode((screen_width,screen_height))\n",
    "pg.display.set_caption(\"Shower\")\n",
    "\n",
    "episodes = 5\n",
    "for episode in range(1, episodes+1):\n",
    "    obs = env.reset()\n",
    "    done = False\n",
    "    score = 0\n",
    "    \n",
    "    while not done:\n",
    "        pg.event.get()\n",
    "        env.render()\n",
    "        action = env.action_space.sample()\n",
    "        obs, reward, done, info = env.step(action)\n",
    "        score += reward         \n",
    "    print('Episode:{} Score:{}'.format(episode, score))\n",
    "env.close()\n",
    "pg.display.quit()"
   ]
  },
  {
   "cell_type": "markdown",
   "id": "6f8ce03c",
   "metadata": {},
   "source": [
    "### Train Model"
   ]
  },
  {
   "cell_type": "code",
   "execution_count": null,
   "id": "0ad5bba6",
   "metadata": {},
   "outputs": [],
   "source": [
    "log_path = os.path.join('training', 'logs')\n",
    "#model = PPO('MlpPolicy', env, verbose=1, tensorboard_log=log_path)"
   ]
  },
  {
   "cell_type": "raw",
   "id": "4bd2bbd6",
   "metadata": {
    "scrolled": true
   },
   "source": [
    "model.learn(total_timesteps=100000)"
   ]
  },
  {
   "cell_type": "code",
   "execution_count": null,
   "id": "60d4eeac",
   "metadata": {},
   "outputs": [],
   "source": [
    "training_log_path = os.path.join(log_path, 'PPO_13')"
   ]
  },
  {
   "cell_type": "code",
   "execution_count": null,
   "id": "797a9492",
   "metadata": {},
   "outputs": [],
   "source": [
    "!tensorboard --logdir={training_log_path}"
   ]
  },
  {
   "cell_type": "markdown",
   "id": "7ff373bb",
   "metadata": {},
   "source": [
    "### Save Model"
   ]
  },
  {
   "cell_type": "code",
   "execution_count": null,
   "id": "3066cc79",
   "metadata": {},
   "outputs": [],
   "source": [
    "shower_path = os.path.join('training', 'saved_models', 'ShowerModel_PPO')"
   ]
  },
  {
   "cell_type": "raw",
   "id": "9a71a1b3",
   "metadata": {},
   "source": [
    "model.save(shower_path)"
   ]
  },
  {
   "cell_type": "raw",
   "id": "bd89410b",
   "metadata": {},
   "source": [
    "del(model)"
   ]
  },
  {
   "cell_type": "code",
   "execution_count": null,
   "id": "c883a863",
   "metadata": {},
   "outputs": [],
   "source": [
    "model = PPO.load(shower_path, env)"
   ]
  },
  {
   "cell_type": "raw",
   "id": "ed2f5bab",
   "metadata": {},
   "source": [
    "evaluate_policy(model, env, n_eval_episodes=10, render=False)"
   ]
  },
  {
   "cell_type": "code",
   "execution_count": null,
   "id": "b796d301",
   "metadata": {},
   "outputs": [],
   "source": [
    "pg.display.init()\n",
    "screen = pg.display.set_mode((screen_width,screen_height))\n",
    "pg.display.set_caption(\"Shower\")\n",
    "\n",
    "episodes = 5\n",
    "for episode in range(1, episodes+1):\n",
    "    obs = env.reset()\n",
    "    done = False\n",
    "    score = 0\n",
    "    \n",
    "    while not done:\n",
    "        pg.event.get()\n",
    "        env.render()\n",
    "        action, _ = model.predict(obs) # predict returns two, but we only require action\n",
    "        obs, reward, done, info = env.step(action)\n",
    "        score += reward         \n",
    "    print('Episode:{} Score:{}'.format(episode, score))\n",
    "env.close()\n",
    "pg.display.quit()"
   ]
  },
  {
   "cell_type": "code",
   "execution_count": null,
   "id": "9e0e984e",
   "metadata": {},
   "outputs": [],
   "source": []
  }
 ],
 "metadata": {
  "kernelspec": {
   "display_name": "Python 3 (ipykernel)",
   "language": "python",
   "name": "python3"
  },
  "language_info": {
   "codemirror_mode": {
    "name": "ipython",
    "version": 3
   },
   "file_extension": ".py",
   "mimetype": "text/x-python",
   "name": "python",
   "nbconvert_exporter": "python",
   "pygments_lexer": "ipython3",
   "version": "3.9.7"
  }
 },
 "nbformat": 4,
 "nbformat_minor": 5
}
