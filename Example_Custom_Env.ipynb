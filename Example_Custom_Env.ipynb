{
 "cells": [
  {
   "cell_type": "markdown",
   "id": "ea951235",
   "metadata": {},
   "source": [
    "### Import Dependencies"
   ]
  },
  {
   "cell_type": "code",
   "execution_count": 1,
   "id": "a9683f07",
   "metadata": {},
   "outputs": [
    {
     "name": "stdout",
     "output_type": "stream",
     "text": [
      "Requirement already satisfied: pygame in c:\\users\\gameuser\\anaconda3\\lib\\site-packages (2.1.0)\n"
     ]
    }
   ],
   "source": [
    "# Pygame intended for later use\n",
    "!pip install pygame"
   ]
  },
  {
   "cell_type": "code",
   "execution_count": 2,
   "id": "43c0bfca",
   "metadata": {},
   "outputs": [],
   "source": [
    "# Gym Imports\n",
    "import gym\n",
    "from gym import Env\n",
    "from gym.spaces import Discrete, Box, Dict, Tuple, MultiBinary, MultiDiscrete # different types of spaces\n",
    "\n",
    "# Helpers\n",
    "import numpy as np\n",
    "import random\n",
    "import os\n",
    "\n",
    "# Stable baselines\n",
    "from stable_baselines3 import PPO\n",
    "from stable_baselines3.common.vec_env import DummyVecEnv\n",
    "from stable_baselines3.common.evaluation import evaluate_policy"
   ]
  },
  {
   "cell_type": "code",
   "execution_count": 3,
   "id": "f9703115",
   "metadata": {},
   "outputs": [
    {
     "name": "stdout",
     "output_type": "stream",
     "text": [
      "pygame 2.1.0 (SDL 2.0.16, Python 3.9.7)\n",
      "Hello from the pygame community. https://www.pygame.org/contribute.html\n"
     ]
    }
   ],
   "source": [
    "# Pygame\n",
    "import pygame as pg\n",
    "\n",
    "screen_width = 800\n",
    "screen_height = 600\n",
    "\n",
    "pg.init()\n",
    "screen = pg.display.set_mode((screen_width,screen_height))\n",
    "pg.display.set_caption(\"Shower\")\n",
    "\n",
    "# see if we can load more than standard BMP\n",
    "if not pg.image.get_extended():\n",
    "    raise SystemExit(\"Sorry, extended image module required\")\n",
    "\n",
    "# game constants\n",
    "SCREENRECT = pg.Rect(0, 0, 1280, 720)"
   ]
  },
  {
   "cell_type": "code",
   "execution_count": null,
   "id": "b35edb61",
   "metadata": {},
   "outputs": [],
   "source": [
    "#pg.quit() # run this to close pygame window"
   ]
  },
  {
   "cell_type": "code",
   "execution_count": 4,
   "id": "73c087f4",
   "metadata": {},
   "outputs": [],
   "source": [
    "def load_image(file):\n",
    "    \"\"\"loads an image, prepares it for play\"\"\"\n",
    "    file = os.path.join(file)\n",
    "    try:\n",
    "        surface = pg.image.load(file)\n",
    "    except pg.error:\n",
    "        raise SystemExit('Could not load image \"%s\" %s' % (file, pg.get_error()))\n",
    "    return surface.convert()"
   ]
  },
  {
   "cell_type": "code",
   "execution_count": 5,
   "id": "cd76b13f",
   "metadata": {},
   "outputs": [],
   "source": [
    "class Knob(pg.sprite.Sprite):\n",
    "    \"\"\"A visual for what way the AI is turning the temperature\"\"\"\n",
    "    images = [load_image(\"assets/sprites/knob_none.png\"), \n",
    "              load_image(\"assets/sprites/knob_r.png\"), \n",
    "              load_image(\"assets/sprites/knob_l.png\")]\n",
    "\n",
    "    def __init__(self):\n",
    "        pg.sprite.Sprite.__init__(self, self.containers)\n",
    "        self.image = self.images[0]\n",
    "        self.rect = self.image.get_rect()\n",
    "\n",
    "    def update(self, action: int):\n",
    "        self.image = self.images[action]"
   ]
  },
  {
   "cell_type": "code",
   "execution_count": 6,
   "id": "fe588ada",
   "metadata": {},
   "outputs": [],
   "source": [
    "# Initialize Game Groups\n",
    "all = pg.sprite.RenderUpdates()\n",
    "    \n",
    "Knob.containers = all"
   ]
  },
  {
   "cell_type": "markdown",
   "id": "7457946a",
   "metadata": {},
   "source": [
    "### Building an Environment\n",
    "- Build an agent to give us best shower possible\n",
    "- Randomly temperature\n",
    "- 37 and 39 degrees range"
   ]
  },
  {
   "cell_type": "code",
   "execution_count": 7,
   "id": "f016e9ee",
   "metadata": {},
   "outputs": [],
   "source": [
    "class ShowerEnv(Env):\n",
    "    visual = Knob()\n",
    "    \n",
    "    def __init__(self):\n",
    "        # Actions we can take, down, stay, up\n",
    "        self.action_space = Discrete(3)\n",
    "        # Temperature array\n",
    "        self.observation_space = Box(low=np.array([0]), high=np.array([100]))\n",
    "        # Set start temp\n",
    "        self.state = 38 + random.randint(-3,3)\n",
    "        # Set shower length\n",
    "        self.shower_length = 60\n",
    "\n",
    "    def step(self, action):\n",
    "        # Apply action\n",
    "        # 0 -1 = -1 temperature\n",
    "        # 1 -1 = 0 \n",
    "        # 2 -1 = 1 temperature \n",
    "        self.state += action -1 \n",
    "        # Reduce shower length by 1 second\n",
    "        self.shower_length -= 1\n",
    "        self.visual.update(action)\n",
    "        \n",
    "        # Calculate reward\n",
    "        if self.state >=37 and self.state <=39: \n",
    "            reward =1 \n",
    "        else: \n",
    "            reward = -1 \n",
    "        \n",
    "        # Check if shower is done\n",
    "        if self.shower_length <= 0: \n",
    "            done = True\n",
    "        else:\n",
    "            done = False\n",
    "        \n",
    "        # Apply temperature noise\n",
    "        #self.state += random.randint(-1,1)\n",
    "        # Set placeholder for info\n",
    "        info = {}\n",
    "        \n",
    "        # Return step information\n",
    "        return self.state, reward, done, info\n",
    "\n",
    "    def render(self):\n",
    "        # create the background, tile the bgd image\n",
    "        bgdtile = load_image(\"assets/sprites/background.png\")\n",
    "        background = pg.Surface(SCREENRECT.size)\n",
    "        for x in range(0, SCREENRECT.width, bgdtile.get_width()):\n",
    "            background.blit(bgdtile, (x, 0))\n",
    "        screen.blit(background, (0, 0))\n",
    "        \n",
    "         # draw the scene\n",
    "        all.clear(screen, background) # clear/erase the last drawn sprites\n",
    "        dirty = all.draw(screen)\n",
    "        pg.display.update(dirty)\n",
    "        pass\n",
    "    \n",
    "    def reset(self):\n",
    "        # Reset shower temperature\n",
    "        self.state = np.array([38 + random.randint(-3,3)]).astype(float)\n",
    "        # Reset shower time\n",
    "        self.shower_length = 60 \n",
    "        return self.state"
   ]
  },
  {
   "cell_type": "markdown",
   "id": "edacefef",
   "metadata": {},
   "source": [
    "### Test Environment"
   ]
  },
  {
   "cell_type": "code",
   "execution_count": 8,
   "id": "edbe21e3",
   "metadata": {},
   "outputs": [
    {
     "name": "stderr",
     "output_type": "stream",
     "text": [
      "C:\\Users\\gameuser\\anaconda3\\lib\\site-packages\\gym\\logger.py:34: UserWarning: \u001b[33mWARN: Box bound precision lowered by casting to float32\u001b[0m\n",
      "  warnings.warn(colorize(\"%s: %s\" % (\"WARN\", msg % args), \"yellow\"))\n"
     ]
    }
   ],
   "source": [
    "env = ShowerEnv()"
   ]
  },
  {
   "cell_type": "code",
   "execution_count": 17,
   "id": "08475564",
   "metadata": {},
   "outputs": [
    {
     "name": "stdout",
     "output_type": "stream",
     "text": [
      "Episode:1 Score:-58\n",
      "Episode:2 Score:-28\n",
      "Episode:3 Score:-24\n",
      "Episode:4 Score:-20\n",
      "Episode:5 Score:-58\n"
     ]
    }
   ],
   "source": [
    "episodes = 5\n",
    "for episode in range(1, episodes+1):\n",
    "    obs = env.reset()\n",
    "    done = False\n",
    "    score = 0\n",
    "    \n",
    "    while not done:\n",
    "        env.render()\n",
    "        action = env.action_space.sample()\n",
    "        obs, reward, done, info = env.step(action)\n",
    "        score += reward\n",
    "    print('Episode:{} Score:{}'.format(episode, score))\n",
    "env.close()"
   ]
  },
  {
   "cell_type": "markdown",
   "id": "6f8ce03c",
   "metadata": {},
   "source": [
    "### Train Model"
   ]
  },
  {
   "cell_type": "code",
   "execution_count": null,
   "id": "a831e148",
   "metadata": {},
   "outputs": [],
   "source": [
    "log_path = os.path.join('training', 'logs')\n",
    "model = PPO('MlpPolicy', env, verbose=1, tensorboard_log=log_path)"
   ]
  },
  {
   "cell_type": "code",
   "execution_count": null,
   "id": "fe76d8f6",
   "metadata": {
    "scrolled": true
   },
   "outputs": [],
   "source": [
    "model.learn(total_timesteps=100000)"
   ]
  },
  {
   "cell_type": "markdown",
   "id": "7ff373bb",
   "metadata": {},
   "source": [
    "### Save Model"
   ]
  },
  {
   "cell_type": "code",
   "execution_count": 12,
   "id": "3066cc79",
   "metadata": {},
   "outputs": [],
   "source": [
    "shower_path = os.path.join('training', 'saved_models', 'ShowerModel_PPO')"
   ]
  },
  {
   "cell_type": "code",
   "execution_count": null,
   "id": "0ebc059c",
   "metadata": {},
   "outputs": [],
   "source": [
    "model.save(shower_path)"
   ]
  },
  {
   "cell_type": "code",
   "execution_count": null,
   "id": "2c22e455",
   "metadata": {},
   "outputs": [],
   "source": [
    "del(model)"
   ]
  },
  {
   "cell_type": "code",
   "execution_count": 13,
   "id": "c883a863",
   "metadata": {},
   "outputs": [
    {
     "name": "stdout",
     "output_type": "stream",
     "text": [
      "Wrapping the env with a `Monitor` wrapper\n",
      "Wrapping the env in a DummyVecEnv.\n"
     ]
    }
   ],
   "source": [
    "model = PPO.load(shower_path, env)"
   ]
  },
  {
   "cell_type": "code",
   "execution_count": null,
   "id": "d941cdda",
   "metadata": {},
   "outputs": [],
   "source": [
    "evaluate_policy(model, env, n_eval_episodes=10, render=False)"
   ]
  },
  {
   "cell_type": "code",
   "execution_count": 16,
   "id": "b796d301",
   "metadata": {},
   "outputs": [
    {
     "name": "stdout",
     "output_type": "stream",
     "text": [
      "Episode:1 Score:52\n",
      "Episode:2 Score:56\n",
      "Episode:3 Score:52\n",
      "Episode:4 Score:58\n",
      "Episode:5 Score:60\n",
      "Episode:6 Score:60\n",
      "Episode:7 Score:56\n",
      "Episode:8 Score:60\n",
      "Episode:9 Score:60\n",
      "Episode:10 Score:56\n"
     ]
    }
   ],
   "source": [
    "episodes = 10\n",
    "for episode in range(1, episodes + 1):\n",
    "    obs = env.reset()\n",
    "    done = False\n",
    "    score = 0\n",
    "    \n",
    "    while not done:\n",
    "        env.render() # renders environment\n",
    "        action, _ = model.predict(obs) # predict returns two, but we only require action\n",
    "        obs, reward, done, info = env.step(action)\n",
    "        score += reward\n",
    "    print('Episode:{} Score:{}'.format(episode, score))\n",
    "env.close() # Close environment, can run outside of cell to also close environment"
   ]
  },
  {
   "cell_type": "code",
   "execution_count": 18,
   "id": "0c3e16bc",
   "metadata": {},
   "outputs": [],
   "source": [
    "pg.quit()"
   ]
  },
  {
   "cell_type": "code",
   "execution_count": null,
   "id": "4c45f988",
   "metadata": {},
   "outputs": [],
   "source": []
  }
 ],
 "metadata": {
  "kernelspec": {
   "display_name": "Python 3 (ipykernel)",
   "language": "python",
   "name": "python3"
  },
  "language_info": {
   "codemirror_mode": {
    "name": "ipython",
    "version": 3
   },
   "file_extension": ".py",
   "mimetype": "text/x-python",
   "name": "python",
   "nbconvert_exporter": "python",
   "pygments_lexer": "ipython3",
   "version": "3.9.7"
  }
 },
 "nbformat": 4,
 "nbformat_minor": 5
}
