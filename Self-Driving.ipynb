{
 "cells": [
  {
   "cell_type": "markdown",
   "id": "cb707b37",
   "metadata": {},
   "source": [
    "### IMPORTANT!\n",
    "You will need <https://anaconda.org/anaconda/swig> to run this. Follow instructions on the website to install Swig."
   ]
  },
  {
   "cell_type": "markdown",
   "id": "af7b5d2f",
   "metadata": {},
   "source": [
    "### 1. Import Dependencies"
   ]
  },
  {
   "cell_type": "code",
   "execution_count": null,
   "id": "55a3acbe",
   "metadata": {},
   "outputs": [],
   "source": [
    "!pip install gym[box2d] pyglet"
   ]
  },
  {
   "cell_type": "code",
   "execution_count": null,
   "id": "b997486e",
   "metadata": {},
   "outputs": [],
   "source": [
    "import os\n",
    "import gym\n",
    "from stable_baselines3 import PPO # Proximal Policy Optimization\n",
    "from stable_baselines3.common.vec_env import DummyVecEnv\n",
    "from stable_baselines3.common.evaluation import evaluate_policy"
   ]
  },
  {
   "cell_type": "markdown",
   "id": "9fb090e3",
   "metadata": {},
   "source": [
    "### 2. Test Environment"
   ]
  },
  {
   "cell_type": "code",
   "execution_count": null,
   "id": "04ef12d9",
   "metadata": {},
   "outputs": [],
   "source": [
    "environment_name = 'CarRacing-v0'\n",
    "#env = gym.make(environment_name)"
   ]
  },
  {
   "cell_type": "raw",
   "id": "370adcb8",
   "metadata": {},
   "source": [
    "episodes = 5\n",
    "for episode in range(1, episodes+1):\n",
    "    obs = env.reset()\n",
    "    done = False\n",
    "    score = 0\n",
    "    \n",
    "    while not done:\n",
    "        env.render()\n",
    "        action = env.action_space.sample()\n",
    "        obs, reward, done, info = env.step(action)\n",
    "        score += reward\n",
    "    print('Episode:{} Score:{}'.format(episode, score))\n",
    "env.close()"
   ]
  },
  {
   "cell_type": "markdown",
   "id": "28e330cc",
   "metadata": {},
   "source": [
    "The reward is -0.1 every frame and +1000/N for every track tile visited, where N is the total number of tiles visited in the track.\n",
    "The gmae is solved when the agent consistently gets 900 points."
   ]
  },
  {
   "cell_type": "markdown",
   "id": "7bfa8fa6",
   "metadata": {},
   "source": [
    "### 3. Train Model"
   ]
  },
  {
   "cell_type": "code",
   "execution_count": null,
   "id": "f8d85b91",
   "metadata": {},
   "outputs": [],
   "source": [
    "env = gym.make(environment_name)\n",
    "env = DummyVecEnv([lambda: env])"
   ]
  },
  {
   "cell_type": "code",
   "execution_count": null,
   "id": "ff897000",
   "metadata": {},
   "outputs": [],
   "source": [
    "log_path = os.path.join('training', 'logs')\n",
    "# model = PPO('CnnPolicy', env, verbose=1, tensorboard_log=log_path) # uncomment if you want to make a new model"
   ]
  },
  {
   "cell_type": "raw",
   "id": "5c431514",
   "metadata": {
    "scrolled": true
   },
   "source": [
    "model.learn(total_timesteps=2000000)"
   ]
  },
  {
   "cell_type": "raw",
   "id": "2e047881",
   "metadata": {},
   "source": [
    "env.close()"
   ]
  },
  {
   "cell_type": "markdown",
   "id": "03e5438b",
   "metadata": {},
   "source": [
    "### 4. Save Model"
   ]
  },
  {
   "cell_type": "code",
   "execution_count": null,
   "id": "bb62d178",
   "metadata": {},
   "outputs": [],
   "source": [
    "ppo_path = os.path.join('training', 'saved_models', 'PPO_Driving_Model_TwoMil')"
   ]
  },
  {
   "cell_type": "raw",
   "id": "0ddb4ca0",
   "metadata": {},
   "source": [
    "model.save(ppo_path)"
   ]
  },
  {
   "cell_type": "raw",
   "id": "3f46a4b0",
   "metadata": {},
   "source": [
    "del model"
   ]
  },
  {
   "cell_type": "code",
   "execution_count": null,
   "id": "a4e5a94b",
   "metadata": {},
   "outputs": [],
   "source": [
    "model = PPO.load(ppo_path, env)"
   ]
  },
  {
   "cell_type": "markdown",
   "id": "e66bc894",
   "metadata": {},
   "source": [
    "### 5. Evaluate and Test\n",
    "Running the evaluate policy below, you will get back two values.\n",
    "The first value is the average score, second value is the deviation.\n"
   ]
  },
  {
   "cell_type": "code",
   "execution_count": null,
   "id": "b457007b",
   "metadata": {},
   "outputs": [],
   "source": [
    "evaluate_policy(model, env, n_eval_episodes=10, render=True)"
   ]
  },
  {
   "cell_type": "code",
   "execution_count": null,
   "id": "5ae9ce4e",
   "metadata": {},
   "outputs": [],
   "source": [
    "env.close()"
   ]
  },
  {
   "cell_type": "markdown",
   "id": "819f1e92",
   "metadata": {},
   "source": [
    "### Evaluation & Testing using Loop Instead of evaluate_policy"
   ]
  },
  {
   "cell_type": "code",
   "execution_count": null,
   "id": "f43ae13a",
   "metadata": {},
   "outputs": [],
   "source": [
    "episodes = 3\n",
    "for episode in range(1, episodes + 1):\n",
    "    obs = env.reset()\n",
    "    done = False\n",
    "    score = 0\n",
    "    \n",
    "    while not done:\n",
    "        env.render() # renders environment\n",
    "        action, _ = model.predict(obs) # predict returns two, but we only require action\n",
    "        obs, reward, done, info = env.step(action)\n",
    "        score += reward\n",
    "    print('Episode:{} Score:{}'.format(episode, score))\n",
    "env.close() # Close environment, can run outside of cell to also close environment"
   ]
  }
 ],
 "metadata": {
  "kernelspec": {
   "display_name": "Python 3 (ipykernel)",
   "language": "python",
   "name": "python3"
  },
  "language_info": {
   "codemirror_mode": {
    "name": "ipython",
    "version": 3
   },
   "file_extension": ".py",
   "mimetype": "text/x-python",
   "name": "python",
   "nbconvert_exporter": "python",
   "pygments_lexer": "ipython3",
   "version": "3.9.7"
  }
 },
 "nbformat": 4,
 "nbformat_minor": 5
}
