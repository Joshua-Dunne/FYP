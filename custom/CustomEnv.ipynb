{
 "cells": [
  {
   "cell_type": "code",
   "execution_count": 1,
   "id": "7d303a84",
   "metadata": {},
   "outputs": [
    {
     "name": "stdout",
     "output_type": "stream",
     "text": [
      "Requirement already satisfied: pygame in c:\\users\\tf2gm\\anaconda3\\lib\\site-packages (2.1.0)\n"
     ]
    }
   ],
   "source": [
    "# Pygame installation\n",
    "!pip install pygame"
   ]
  },
  {
   "cell_type": "code",
   "execution_count": 2,
   "id": "a7dd6081",
   "metadata": {},
   "outputs": [
    {
     "name": "stdout",
     "output_type": "stream",
     "text": [
      "pygame 2.1.0 (SDL 2.0.16, Python 3.9.7)\n",
      "Hello from the pygame community. https://www.pygame.org/contribute.html\n"
     ]
    },
    {
     "data": {
      "text/plain": [
       "(5, 0)"
      ]
     },
     "execution_count": 2,
     "metadata": {},
     "output_type": "execute_result"
    }
   ],
   "source": [
    "import pygame as pg\n",
    "from pygame import image as img\n",
    "\n",
    "pg.init()"
   ]
  },
  {
   "cell_type": "code",
   "execution_count": 3,
   "id": "48e80a3b",
   "metadata": {},
   "outputs": [],
   "source": [
    "# Function definitions for use\n",
    "def load_image(file):\n",
    "    \"\"\"loads an image, prepares it for play\"\"\"\n",
    "    try:\n",
    "        surface = pg.image.load(file)\n",
    "    except pg.error:\n",
    "        raise SystemExit('Could not load image \"%s\" %s' % (file, pg.get_error()))\n",
    "    return surface.convert_alpha() # convert_alpha allows for transparency from .pngs"
   ]
  },
  {
   "cell_type": "code",
   "execution_count": 78,
   "id": "3c2dfe5b",
   "metadata": {},
   "outputs": [],
   "source": [
    "pg.init()\n",
    "win = pg.display.set_mode((0,0))\n",
    "pg.display.set_caption(\"Custom Environment - Space Path\")\n",
    "\n",
    "class Robot(pg.sprite.Sprite):\n",
    "    \"\"\"Visual for AI space and movement direction\"\"\"\n",
    "    images = [load_image(\"assets/sprites/robo_R.png\"), \n",
    "              load_image(\"assets/sprites/robo_L.png\"), \n",
    "              load_image(\"assets/sprites/robo_U.png\"),\n",
    "              load_image(\"assets/sprites/robo_D.png\")]\n",
    "\n",
    "    def __init__(self, pos):\n",
    "        pg.sprite.Sprite.__init__(self, self.containers)\n",
    "        self.image = self.images[0]\n",
    "        self.rect = self.image.get_rect()\n",
    "        self.rect.x = pos[0] - (self.rect.width / 2.0)\n",
    "        self.rect.y = pos[1] - (self.rect.height / 2.0)\n",
    "\n",
    "    def update(self, action: int):\n",
    "        if action >= 0:\n",
    "            self.image = self.images[action]\n",
    "    \n",
    "    def setPosition(self, newPos):\n",
    "        self.rect = self.image.get_rect()\n",
    "        self.rect.x = newPos[0] - (self.rect.width / 2.0)\n",
    "        self.rect.y = newPos[1] - (self.rect.height / 2.0)\n",
    "\n",
    "class Space(pg.sprite.Sprite):\n",
    "    \"\"\"Visual for space type. Normal, positive or negative\"\"\"\n",
    "    images = [load_image(\"assets/sprites/normal.png\"), \n",
    "              load_image(\"assets/sprites/plus.png\"), \n",
    "              load_image(\"assets/sprites/minus.png\"),\n",
    "              load_image(\"assets/sprites/start.png\"), \n",
    "              load_image(\"assets/sprites/goal.png\")]\n",
    "\n",
    "    def __init__(self, pos, jumpDistance):\n",
    "        pg.sprite.Sprite.__init__(self, self.containers)\n",
    "        \n",
    "        if(jumpDistance == 0):  # neutral movement - does not push Robot\n",
    "            self.image = self.images[0]\n",
    "        elif(jumpDistance > 0): # positive movement - pushes robot forward\n",
    "            self.image = self.images[1]\n",
    "        else:                    # negative movement - pushes robot backward\n",
    "            self.image = self.images[2]\n",
    "\n",
    "        self.rect = self.image.get_rect()\n",
    "        self.rect.x = pos[0] - (self.rect.width / 2.0)\n",
    "        self.rect.y = pos[1] - (self.rect.height / 2.0)\n",
    "        \n",
    "    def setType(self, spaceType):\n",
    "            self.image = self.images[spaceType]\n",
    "\n",
    "# Initialize Game Groups\n",
    "all = pg.sprite.RenderUpdates()\n",
    "    \n",
    "Space.containers = all\n",
    "Robot.containers = all\n",
    "\n",
    "# Board does not require rendering\n",
    "        \n",
    "class Board():\n",
    "    \"\"\"Board that sets up and displays all spaces\"\"\"\n",
    "    spaces = [[], [], []] # top, middle and bottom lanes\n",
    "    playerPos = [0,1]\n",
    "    goal = []\n",
    "    maxRows = 0\n",
    "    \n",
    "    def __init__(self, maxRows, pos):\n",
    "        self.maxRows = maxRows\n",
    "        \n",
    "        if self.maxRows < 1:\n",
    "            self.maxRows = 1 # cap minimum value to max rows in case of emergency\n",
    "            \n",
    "        self.goal = [1, self.maxRows - 1]\n",
    "        \n",
    "        # Thanks to Jack Malone for help with this loop\n",
    "        for index, value in enumerate(self.spaces):\n",
    "                    for y in range(self.maxRows):\n",
    "                            value.append(Space(((64 * y) + pos[0], (64 * index) + pos[1]), 0))\n",
    "                        \n",
    "        self.spaces[self.playerPos[0]][self.playerPos[1]].setType(3) # 3 = start type\n",
    "        self.spaces[self.goal[0]][self.goal[1]].setType(4) # 4 = goal type\n",
    "            \n",
    "    def update(self, robot: Robot, action: int):\n",
    "        if action >= 0:\n",
    "            if action == 0: # right\n",
    "                  if self.playerPos[0] < self.maxRows - 1:\n",
    "                        self.playerPos[0] += 1\n",
    "            elif action == 1: # left\n",
    "                 if self.playerPos[0] > 0:\n",
    "                        self.playerPos[0] -= 1\n",
    "            elif action == 2: # up\n",
    "                if self.playerPos[1] > 0:\n",
    "                        self.playerPos[1] -= 1\n",
    "            elif action == 3: # down\n",
    "                if self.playerPos[1] < 2:\n",
    "                        self.playerPos[1] += 1\n",
    "            # now that the robot has moved, update it's position\n",
    "            robot.setPosition(((self.playerPos[0] * 64) + 96, (self.playerPos[1] * 64) + 96))\n",
    "        \n",
    "\n",
    "pg.display.quit()"
   ]
  },
  {
   "cell_type": "code",
   "execution_count": 79,
   "id": "d14b1b07",
   "metadata": {},
   "outputs": [],
   "source": [
    "# Game Setup\n",
    "pg.init()\n",
    "win = pg.display.set_mode((1600,800))\n",
    "pg.display.set_caption(\"Custom Env\")\n",
    "\n",
    "bg = load_image('assets/sprites/background.png')\n",
    "board = Board(6, (100,100))\n",
    "robo = Robot((board.spaces[0][1].rect.x  + 96, board.spaces[0][1].rect.y  + 96))\n",
    "\n",
    "clock = pg.time.Clock()\n",
    "\n",
    "run = True\n",
    "\n",
    "def draw():\n",
    "    win.blit(bg, (0,0))\n",
    "    win.blit(robo.image, (robo.rect.x, robo.rect.y))\n",
    "    \n",
    "    for r in board.spaces:\n",
    "            for c in r: # position all spaces to the correct top left position\n",
    "                win.blit(c.image, (c.rect.x, c.rect.y))\n",
    "    \n",
    "    \n",
    "    pg.display.update()\n",
    "\n",
    "\n",
    "while run:\n",
    "    clock.tick(30)\n",
    "    \n",
    "    for event in pg.event.get():\n",
    "        if event.type == pg.QUIT:\n",
    "            run = False\n",
    "        elif event.type == pg.KEYUP :\n",
    "            if keys[pg.K_RIGHT]:\n",
    "                action = 0   \n",
    "            elif keys[pg.K_LEFT]:\n",
    "                action = 1   \n",
    "            elif keys[pg.K_UP]:\n",
    "                action = 2 \n",
    "            elif keys[pg.K_DOWN]:\n",
    "                action = 3\n",
    "            \n",
    "            \n",
    "    keys = pg.key.get_pressed()\n",
    "\n",
    "    \n",
    "    robo.update(action)\n",
    "    board.update(robo, action)\n",
    "    \n",
    "    action = -1;\n",
    "    \n",
    "    draw()\n",
    "        \n",
    "    \n",
    "pg.quit()"
   ]
  },
  {
   "cell_type": "code",
   "execution_count": 69,
   "id": "0ed5d20b",
   "metadata": {},
   "outputs": [],
   "source": [
    "pg.quit()"
   ]
  },
  {
   "cell_type": "code",
   "execution_count": null,
   "id": "554d9d7d",
   "metadata": {},
   "outputs": [],
   "source": []
  }
 ],
 "metadata": {
  "kernelspec": {
   "display_name": "Python 3 (ipykernel)",
   "language": "python",
   "name": "python3"
  },
  "language_info": {
   "codemirror_mode": {
    "name": "ipython",
    "version": 3
   },
   "file_extension": ".py",
   "mimetype": "text/x-python",
   "name": "python",
   "nbconvert_exporter": "python",
   "pygments_lexer": "ipython3",
   "version": "3.9.7"
  }
 },
 "nbformat": 4,
 "nbformat_minor": 5
}
