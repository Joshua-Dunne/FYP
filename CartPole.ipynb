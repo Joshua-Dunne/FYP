{
 "cells": [
  {
   "cell_type": "markdown",
   "id": "97e757a4",
   "metadata": {},
   "source": [
    "### Once you have installed Conda, you will also want to run the following line in your Anaconda terminal:\n",
    "\n",
    "#### conda install -c conda-forge pyglet"
   ]
  },
  {
   "cell_type": "markdown",
   "id": "79efbb50",
   "metadata": {},
   "source": [
    "### Import dependencies"
   ]
  },
  {
   "cell_type": "code",
   "execution_count": null,
   "id": "e89eb6b0",
   "metadata": {},
   "outputs": [],
   "source": [
    "!pip install stable-baselines3[extra]"
   ]
  },
  {
   "cell_type": "code",
   "execution_count": null,
   "id": "be2446e5",
   "metadata": {},
   "outputs": [],
   "source": [
    "import os\n",
    "import gym\n",
    "from stable_baselines3 import PPO\n",
    "from stable_baselines3.common.vec_env import DummyVecEnv\n",
    "from stable_baselines3.common.evaluation import evaluate_policy"
   ]
  },
  {
   "cell_type": "markdown",
   "id": "77f3680a",
   "metadata": {},
   "source": [
    "### Load Environment"
   ]
  },
  {
   "cell_type": "code",
   "execution_count": null,
   "id": "4ad70d38",
   "metadata": {},
   "outputs": [],
   "source": [
    "environment_name = \"CartPole-v0\"\n",
    "#env = gym.make(environment_name) # uncomment if using the cell below"
   ]
  },
  {
   "cell_type": "raw",
   "id": "f17783b2",
   "metadata": {},
   "source": [
    "# change to code block and run in order to view environment running with no model\n",
    "episodes = 5\n",
    "for episode in range(1, episodes + 1):\n",
    "    state = env.reset()\n",
    "    done = False\n",
    "    score = 0\n",
    "    \n",
    "    while not done:\n",
    "        env.render() # renders environment\n",
    "        action = env.action_space.sample() # Discrete, picks an action, Move Left / Right\n",
    "        n_state, reward, done, info = env.step(action)\n",
    "        score += reward\n",
    "    print('Episode:{} Score:{}'.format(episode, score))\n",
    "env.close() # Close environment, can run outside of cell to also close environment"
   ]
  },
  {
   "cell_type": "markdown",
   "id": "4e63592b",
   "metadata": {},
   "source": [
    "### Train RL Model"
   ]
  },
  {
   "cell_type": "code",
   "execution_count": null,
   "id": "b4adc1b6",
   "metadata": {},
   "outputs": [],
   "source": [
    "# Make Directories To Save Logs (and later Models)\n",
    "log_path = os.path.join('training', 'logs')"
   ]
  },
  {
   "cell_type": "code",
   "execution_count": null,
   "id": "4ca53229",
   "metadata": {},
   "outputs": [],
   "source": [
    "env = gym.make(environment_name)\n",
    "env = DummyVecEnv([lambda: env])\n",
    "# Multilayer Perceptron Policy\n",
    "#model = PPO('MlpPolicy', env, verbose=1, tensorboard_log=log_path)"
   ]
  },
  {
   "cell_type": "raw",
   "id": "c38d18b6",
   "metadata": {
    "scrolled": true
   },
   "source": [
    "model.learn(total_timesteps=20000) # change this to code block if you wish to train the model"
   ]
  },
  {
   "cell_type": "markdown",
   "id": "ab486b61",
   "metadata": {},
   "source": [
    "### Save and Reload Model"
   ]
  },
  {
   "cell_type": "code",
   "execution_count": null,
   "id": "d7dc658d",
   "metadata": {},
   "outputs": [],
   "source": [
    "PPO_Path = os.path.join('training', 'saved_models', 'best_model') # path to model"
   ]
  },
  {
   "cell_type": "raw",
   "id": "9ad7415e",
   "metadata": {},
   "source": [
    "model.save(PPO_Path) # change to code block to save trained model"
   ]
  },
  {
   "cell_type": "raw",
   "id": "7f0f93c2",
   "metadata": {},
   "source": [
    "del model # change to code block if you wish to delete currently loaded models"
   ]
  },
  {
   "cell_type": "code",
   "execution_count": null,
   "id": "d6d5c0b0",
   "metadata": {},
   "outputs": [],
   "source": [
    "model = PPO.load(PPO_Path, env=env) # run to load model from path specified above"
   ]
  },
  {
   "cell_type": "raw",
   "id": "51486b4c",
   "metadata": {},
   "source": [
    "model.learn(total_timesteps=1000) # change this to code block if you wish to train the model"
   ]
  },
  {
   "cell_type": "markdown",
   "id": "e225ba5f",
   "metadata": {},
   "source": [
    "### Evaluation"
   ]
  },
  {
   "cell_type": "raw",
   "id": "e65c3cc2",
   "metadata": {},
   "source": [
    "evaluate_policy(model, env, n_eval_episodes=10, render=True) # evaluates how the model does in the environment"
   ]
  },
  {
   "cell_type": "raw",
   "id": "6a616d38",
   "metadata": {},
   "source": [
    "env.close() # close the environment after running the above cell"
   ]
  },
  {
   "cell_type": "markdown",
   "id": "56155c39",
   "metadata": {},
   "source": [
    "### Test Model"
   ]
  },
  {
   "cell_type": "code",
   "execution_count": null,
   "id": "a78f9932",
   "metadata": {},
   "outputs": [],
   "source": [
    "episodes = 3\n",
    "for episode in range(1, episodes + 1):\n",
    "    obs = env.reset()\n",
    "    done = False\n",
    "    score = 0\n",
    "    \n",
    "    while not done:\n",
    "        env.render() # renders environment\n",
    "        action, _ = model.predict(obs) # predict returns two, but we only require action\n",
    "        obs, reward, done, info = env.step(action)\n",
    "        score += reward\n",
    "    print('Episode:{} Score:{}'.format(episode, score))\n",
    "env.close() # Close environment, can run outside of cell to also close environment"
   ]
  },
  {
   "cell_type": "markdown",
   "id": "4f8d9ca1",
   "metadata": {},
   "source": [
    "### Viewing Logs with Tensorboard\n",
    "#### Note: This should not be run within Jupyter, as it will freeze the notebook while it runs.\n",
    "#### However, it can be run within the Notebook purely for demonstration purposes, so it will be included."
   ]
  },
  {
   "cell_type": "raw",
   "id": "40409f8d",
   "metadata": {},
   "source": [
    "training_log_path = os.path.join(log_path, 'PPO_2')"
   ]
  },
  {
   "cell_type": "raw",
   "id": "4328770c",
   "metadata": {},
   "source": [
    "!tensorboard --logdir={training_log_path}\n",
    "# if you are running this from jupyter, go to http://localhost:6006 to access"
   ]
  },
  {
   "cell_type": "markdown",
   "id": "aed75a0c",
   "metadata": {},
   "source": [
    "### Callback to Training Stage"
   ]
  },
  {
   "cell_type": "raw",
   "id": "0f50fba1",
   "metadata": {},
   "source": [
    "from stable_baselines3.common.callbacks import EvalCallback, StopTrainingOnRewardThreshold"
   ]
  },
  {
   "cell_type": "raw",
   "id": "06cfa29a",
   "metadata": {},
   "source": [
    "save_path = os.path.join('training', 'saved_models')"
   ]
  },
  {
   "cell_type": "raw",
   "id": "56180140",
   "metadata": {},
   "source": [
    "stop_callback = StopTrainingOnRewardThreshold(reward_threshold=200, verbose=1)\n",
    "eval_callback = EvalCallback(env,\n",
    "                             callback_on_new_best=stop_callback,\n",
    "                             eval_freq=10000,\n",
    "                             best_model_save_path= save_path,\n",
    "                             verbose=1)"
   ]
  },
  {
   "cell_type": "raw",
   "id": "5f2eb65b",
   "metadata": {},
   "source": [
    "model = PPO('MlpPolicy', env, verbose=1, tensorboard_log=log_path)"
   ]
  },
  {
   "cell_type": "raw",
   "id": "f591aa8f",
   "metadata": {
    "scrolled": true
   },
   "source": [
    "model.learn(total_timesteps=20000, callback=eval_callback)"
   ]
  },
  {
   "cell_type": "markdown",
   "id": "e02d654b",
   "metadata": {},
   "source": [
    "### Changing Policies"
   ]
  },
  {
   "cell_type": "raw",
   "id": "cd7b3c4f",
   "metadata": {},
   "source": [
    "net_arch = [dict(pi=[128,128,128,128], vf=[128,128,128,128])]"
   ]
  },
  {
   "cell_type": "raw",
   "id": "322d46ee",
   "metadata": {},
   "source": [
    "model = PPO('MlpPolicy', env, verbose=1, tensorboard_log=log_path, policy_kwargs={'net_arch':net_arch})"
   ]
  },
  {
   "cell_type": "raw",
   "id": "5976ca98",
   "metadata": {},
   "source": [
    "model.learn(total_timesteps=20000, callback=eval_callback)"
   ]
  },
  {
   "cell_type": "markdown",
   "id": "10d05524",
   "metadata": {},
   "source": [
    "### Using an Alternative Algorithm"
   ]
  },
  {
   "cell_type": "raw",
   "id": "747d8516",
   "metadata": {},
   "source": [
    "from stable_baselines3 import DQN"
   ]
  },
  {
   "cell_type": "raw",
   "id": "393de9ef",
   "metadata": {},
   "source": [
    "model = DQN('MlpPolicy', env, verbose=1, tensorboard_log=log_path) # To load DQN, do DQN.load instead of PPO.load"
   ]
  },
  {
   "cell_type": "raw",
   "id": "e986e034",
   "metadata": {},
   "source": [
    "model.learn(total_timesteps=20000)"
   ]
  }
 ],
 "metadata": {
  "kernelspec": {
   "display_name": "Python 3 (ipykernel)",
   "language": "python",
   "name": "python3"
  },
  "language_info": {
   "codemirror_mode": {
    "name": "ipython",
    "version": 3
   },
   "file_extension": ".py",
   "mimetype": "text/x-python",
   "name": "python",
   "nbconvert_exporter": "python",
   "pygments_lexer": "ipython3",
   "version": "3.9.7"
  }
 },
 "nbformat": 4,
 "nbformat_minor": 5
}
